{
 "cells": [
  {
   "cell_type": "code",
   "execution_count": 2,
   "metadata": {},
   "outputs": [],
   "source": [
    "import pandas as pd \n",
    "import matplotlib.pyplot as plt\n",
    "import matplotlib"
   ]
  },
  {
   "cell_type": "code",
   "execution_count": 66,
   "metadata": {},
   "outputs": [
    {
     "data": {
      "text/html": [
       "<div>\n",
       "<style scoped>\n",
       "    .dataframe tbody tr th:only-of-type {\n",
       "        vertical-align: middle;\n",
       "    }\n",
       "\n",
       "    .dataframe tbody tr th {\n",
       "        vertical-align: top;\n",
       "    }\n",
       "\n",
       "    .dataframe thead th {\n",
       "        text-align: right;\n",
       "    }\n",
       "</style>\n",
       "<table border=\"1\" class=\"dataframe\">\n",
       "  <thead>\n",
       "    <tr style=\"text-align: right;\">\n",
       "      <th></th>\n",
       "      <th>FESOM</th>\n",
       "    </tr>\n",
       "  </thead>\n",
       "  <tbody>\n",
       "    <tr>\n",
       "      <th>core-h</th>\n",
       "      <td>5248.0</td>\n",
       "    </tr>\n",
       "    <tr>\n",
       "      <th>storage</th>\n",
       "      <td>24.7</td>\n",
       "    </tr>\n",
       "    <tr>\n",
       "      <th>wall time</th>\n",
       "      <td>164.0</td>\n",
       "    </tr>\n",
       "  </tbody>\n",
       "</table>\n",
       "</div>"
      ],
      "text/plain": [
       "            FESOM\n",
       "core-h     5248.0\n",
       "storage      24.7\n",
       "wall time   164.0"
      ]
     },
     "execution_count": 66,
     "metadata": {},
     "output_type": "execute_result"
    }
   ],
   "source": [
    "data={'wall time':[164, 249, 72, 4],\n",
    "                   'core-h':[5248, 24.9, 4.8, 0.3],\n",
    "                   'storage':[24.7, 0.16, 5.6, 0.002]}\n",
    "df=pd.DataFrame.from_dict(data,orient='index',columns=['FESOM', 'Ua', 'ice2oce','oce2ice'])\n"
   ]
  },
  {
   "cell_type": "code",
   "execution_count": 71,
   "metadata": {
    "scrolled": true
   },
   "outputs": [
    {
     "data": {
      "image/png": "[encoded data removed]",
      "text/plain": [
       "<Figure size 576x288 with 3 Axes>"
      ]
     },
     "metadata": {
      "needs_background": "light"
     },
     "output_type": "display_data"
    }
   ],
   "source": [
    "matplotlib.rcParams.update({'font.size': 12})\n",
    "df=pd.DataFrame({'':['FESOM', 'Ua', 'Ua2FESOM','FESOM2Ua'],\n",
    "                    'wall time':[164, 249, 72, 4],\n",
    "                   'core-h':[5248, 24.9, 4.8, 0.3],\n",
    "                   'storage':[24.7, 0.16, 5.6, 0.002]})\n",
    "\n",
    "fig, axes = plt.subplots(ncols=3,figsize=(8,4))\n",
    "ax1,ax2,ax3=axes.flatten()\n",
    "ax1 = df.plot.bar(x='',y='wall time', rot=45, ax=ax1,legend=False)\n",
    "ax1.set_ylabel('wall time (min)')\n",
    "ax2 = df.plot.bar(x='', y='core-h',stacked=True, rot=45, ax=ax2,legend=False)\n",
    "ax2.set_ylabel('core-h')\n",
    "ax3 = df.plot.bar(x='', y='storage',stacked=True, rot=45, ax=ax3,legend=False)\n",
    "ax3.set_ylabel('storage (GB)')\n",
    "plt.tight_layout()\n",
    "plt.savefig('./figures/resourceComp.png')\n",
    "plt.show()\n"
   ]
  }
 ],
 "metadata": {
  "kernelspec": {
   "display_name": "Python 2",
   "language": "python",
   "name": "python2"
  },
  "language_info": {
   "codemirror_mode": {
    "name": "ipython",
    "version": 2
   },
   "file_extension": ".py",
   "mimetype": "text/x-python",
   "name": "python",
   "nbconvert_exporter": "python",
   "pygments_lexer": "ipython2",
   "version": "2.7.15"
  }
 },
 "nbformat": 4,
 "nbformat_minor": 2
}
