{
 "cells": [
  {
   "cell_type": "code",
   "execution_count": 87,
   "metadata": {},
   "outputs": [],
   "source": [
    "import pandas as pd \n",
    "import matplotlib.pyplot as plt\n",
    "import matplotlib"
   ]
  },
  {
   "cell_type": "code",
   "execution_count": 88,
   "metadata": {},
   "outputs": [],
   "source": [
    "f={'all':1.333536,\n",
    "   'FRIS':0.167159,\n",
    "   \"EWIS\":0.196572,\n",
    "  'Fimbul':1.28699,\n",
    "  'Larsen C':0.443353,\n",
    "  'George VI':10.7209,\n",
    "  'Abbot':4.64328,\n",
    "  'PIG':28.3608,\n",
    "  'Getz':15.3702,\n",
    "  'Sulzberg/Nickerson':4.29669,\n",
    "  'Ross':0.225617,\n",
    "  'Amery':0.450170}\n",
    "\n",
    "r={'all':0.85,\n",
    "   'FRIS':0.32,\n",
    "   \"EWIS\":0.12,\n",
    "  'Fimbul':0.43,\n",
    "  'Larsen C':0.45,\n",
    "  'George VI':3.8,\n",
    "  'Abbot':1.75,\n",
    "  'PIG':16.2,\n",
    "  'Getz':4.26,\n",
    "  'Sulzberg/Nickerson':1.48,\n",
    "  'Ross':0.1,\n",
    "  'Amery':0.58}\n",
    "\n",
    "a={'all':1.1,\n",
    "   'FRIS':0.2,\n",
    "   \"EWIS\":0.5,\n",
    "  'Fimbul':1.0,\n",
    "  'Larsen C':2.0,\n",
    "  'George VI':4.3,\n",
    "  'Abbot':1.5,\n",
    "  'PIG':14.0,\n",
    "  'Getz':4.2,\n",
    "  'Sulzberg/Nickerson':1.3,\n",
    "  'Ross':0.4,\n",
    "  'Amery':0.8}\n",
    "\n",
    "re={'all':0.1,\n",
    "   'FRIS':0.1,\n",
    "   \"EWIS\":0.2,\n",
    "  'Fimbul':0.22,\n",
    "  'Larsen C':1.0,\n",
    "  'George VI':0.7,\n",
    "  'Abbot':0.6,\n",
    "  'PIG':0.1,\n",
    "  'Getz':0.4,\n",
    "  'Sulzberg/Nickerson':0.3,\n",
    "  'Ross':0.1,\n",
    "  'Amery':0.4}\n",
    "\n",
    "ae={'all':0.1,\n",
    "   'FRIS':0.3,\n",
    "   \"EWIS\":0.8,\n",
    "  'Fimbul':0.8,\n",
    "  'Larsen C':2.5,\n",
    "  'George VI':2.2,\n",
    "  'Abbot':1.5,\n",
    "  'PIG':1.6,\n",
    "  'Getz':1.4,\n",
    "  'Sulzberg/Nickerson':1.3,\n",
    "  'Ross':0.3,\n",
    "  'Amery':0.7}"
   ]
  },
  {
   "cell_type": "code",
   "execution_count": 102,
   "metadata": {},
   "outputs": [
    {
     "data": {
      "image/png": "[encoded data removed]",
      "text/plain": [
       "<Figure size 432x360 with 1 Axes>"
      ]
     },
     "metadata": {
      "needs_background": "light"
     },
     "output_type": "display_data"
    }
   ],
   "source": [
    "df = pd.DataFrame({'This study':f.values(),'Rignot 2013':r.values(),'Adusumilli 2020':a.values()},index=d1.keys())\n",
    "matplotlib.rcParams.update({'font.size': 12})\n",
    "df.plot.bar(figsize=(6,5),yerr=np.vstack([ae.values(),re.values(),np.zeros_like(r.values())]))\n",
    "plt.ylabel('ice shelf average melt rate (m/yr)')\n",
    "plt.tight_layout()\n",
    "plt.savefig('./figures/fesomSpinUpMeanMeltComp.png')\n",
    "plt.show()"
   ]
  },
  {
   "cell_type": "code",
   "execution_count": 27,
   "metadata": {
    "scrolled": true
   },
   "outputs": [
    {
     "data": {
      "text/html": [
       "<div>\n",
       "<style scoped>\n",
       "    .dataframe tbody tr th:only-of-type {\n",
       "        vertical-align: middle;\n",
       "    }\n",
       "\n",
       "    .dataframe tbody tr th {\n",
       "        vertical-align: top;\n",
       "    }\n",
       "\n",
       "    .dataframe thead th {\n",
       "        text-align: right;\n",
       "    }\n",
       "</style>\n",
       "<table border=\"1\" class=\"dataframe\">\n",
       "  <thead>\n",
       "    <tr style=\"text-align: right;\">\n",
       "      <th></th>\n",
       "      <th>Amery</th>\n",
       "      <th>all</th>\n",
       "      <th>FRIS</th>\n",
       "      <th>Getz</th>\n",
       "      <th>EWIS</th>\n",
       "      <th>Fimbul</th>\n",
       "      <th>Larsen C</th>\n",
       "      <th>George VI</th>\n",
       "      <th>Ross</th>\n",
       "      <th>Sulzberg/Nickerson</th>\n",
       "      <th>PIG</th>\n",
       "      <th>Abbot</th>\n",
       "    </tr>\n",
       "  </thead>\n",
       "  <tbody>\n",
       "    <tr>\n",
       "      <th>Fesom</th>\n",
       "      <td>0.45017</td>\n",
       "      <td>1.333536</td>\n",
       "      <td>0.167159</td>\n",
       "      <td>15.3702</td>\n",
       "      <td>0.196572</td>\n",
       "      <td>1.28699</td>\n",
       "      <td>0.443353</td>\n",
       "      <td>10.7209</td>\n",
       "      <td>0.225617</td>\n",
       "      <td>4.29669</td>\n",
       "      <td>28.3608</td>\n",
       "      <td>4.64328</td>\n",
       "    </tr>\n",
       "    <tr>\n",
       "      <th>Rignot</th>\n",
       "      <td>1.00000</td>\n",
       "      <td>1.000000</td>\n",
       "      <td>1.000000</td>\n",
       "      <td>1.0000</td>\n",
       "      <td>1.000000</td>\n",
       "      <td>1.00000</td>\n",
       "      <td>1.000000</td>\n",
       "      <td>1.0000</td>\n",
       "      <td>1.000000</td>\n",
       "      <td>1.00000</td>\n",
       "      <td>1.0000</td>\n",
       "      <td>1.00000</td>\n",
       "    </tr>\n",
       "  </tbody>\n",
       "</table>\n",
       "</div>"
      ],
      "text/plain": [
       "          Amery       all      FRIS     Getz      EWIS   Fimbul  Larsen C  \\\n",
       "Fesom   0.45017  1.333536  0.167159  15.3702  0.196572  1.28699  0.443353   \n",
       "Rignot  1.00000  1.000000  1.000000   1.0000  1.000000  1.00000  1.000000   \n",
       "\n",
       "        George VI      Ross  Sulzberg/Nickerson      PIG    Abbot  \n",
       "Fesom     10.7209  0.225617             4.29669  28.3608  4.64328  \n",
       "Rignot     1.0000  1.000000             1.00000   1.0000  1.00000  "
      ]
     },
     "execution_count": 27,
     "metadata": {},
     "output_type": "execute_result"
    }
   ],
   "source": [
    "df = pd.DataFrame(d,columns=d.keys(),index=['Fesom','Rignot'])\n",
    "df"
   ]
  },
  {
   "cell_type": "code",
   "execution_count": 31,
   "metadata": {},
   "outputs": [],
   "source": [
    "df.plot.bar?"
   ]
  },
  {
   "cell_type": "code",
   "execution_count": null,
   "metadata": {},
   "outputs": [],
   "source": []
  }
 ],
 "metadata": {
  "kernelspec": {
   "display_name": "Python 2",
   "language": "python",
   "name": "python2"
  },
  "language_info": {
   "codemirror_mode": {
    "name": "ipython",
    "version": 2
   },
   "file_extension": ".py",
   "mimetype": "text/x-python",
   "name": "python",
   "nbconvert_exporter": "python",
   "pygments_lexer": "ipython2",
   "version": "2.7.15"
  }
 },
 "nbformat": 4,
 "nbformat_minor": 2
}
